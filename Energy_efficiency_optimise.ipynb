{
 "cells": [
  {
   "cell_type": "markdown",
   "metadata": {},
   "source": [
    "https://archive.ics.uci.edu/ml/datasets/Energy+efficiency"
   ]
  },
  {
   "cell_type": "markdown",
   "metadata": {},
   "source": [
    "X1 Relative Compactness  \n",
    "X2 Surface Area  \n",
    "X3 Wall Area  \n",
    "X4 Roof Area  \n",
    "X5 Overall Height  \n",
    "X6 Orientation  \n",
    "X7 Glazing Area  \n",
    "X8 Glazing Area Distribution  \n",
    "y1 Heating Load  \n",
    "y2 Cooling Load  \n",
    "\n"
   ]
  },
  {
   "cell_type": "markdown",
   "metadata": {},
   "source": [
    "Data Analysis Objective: Given the Heating Load curve and Cooling Load curve, optimise the function so as to obtain the minimal heating and cooling load and there by  find the optimal parameter values.   "
   ]
  },
  {
   "cell_type": "code",
   "execution_count": 1,
   "metadata": {
    "collapsed": true
   },
   "outputs": [],
   "source": [
    "import pandas as pd\n",
    "import numpy as np\n",
    "import seaborn as sns\n",
    "import matplotlib.pyplot as plt\n",
    "%matplotlib inline"
   ]
  },
  {
   "cell_type": "code",
   "execution_count": 2,
   "metadata": {
    "collapsed": true
   },
   "outputs": [],
   "source": [
    "from scipy.optimize import minimize, curve_fit"
   ]
  },
  {
   "cell_type": "markdown",
   "metadata": {},
   "source": [
    "Equation for Heating Load Y1   \n",
    "= exp(10.5544 -4.6256*X1 - 0.0098*X2 + 0.0065*X3 + 0.7898*X7 +0.38629*X8(If Value == 1) + 0.3221*X8(If Value ==2) +0.3096*X8(If value ==3) + 0.3192*X8(If value == 4) + 0.3082*X8(If value == 5)  "
   ]
  },
  {
   "cell_type": "markdown",
   "metadata": {},
   "source": [
    "Equation for Cooling Load Y2  \n",
    "= exp(11.7856 -5.1108*X1 - 0.0097*X2 + 0.0051*X3 + 0.641*X7)  "
   ]
  },
  {
   "cell_type": "markdown",
   "metadata": {},
   "source": [
    "where X1 stands for Relative Compactness, X2 for Surface Area , X3 for wall area, X7 for Glazing Area and X8 for Glazing Area Distribution  "
   ]
  },
  {
   "cell_type": "code",
   "execution_count": 3,
   "metadata": {
    "collapsed": true
   },
   "outputs": [],
   "source": [
    "energy_data = pd.read_excel(\"ENB2012_data.xlsx\")"
   ]
  },
  {
   "cell_type": "code",
   "execution_count": 4,
   "metadata": {},
   "outputs": [
    {
     "data": {
      "text/plain": [
       "<matplotlib.axes._subplots.AxesSubplot at 0x2add3b18c50>"
      ]
     },
     "execution_count": 4,
     "metadata": {},
     "output_type": "execute_result"
    },
    {
     "data": {
      "image/png": "[encoded data removed]",
      "text/plain": [
       "<Figure size 432x288 with 1 Axes>"
      ]
     },
     "metadata": {},
     "output_type": "display_data"
    }
   ],
   "source": [
    "## Distribution of X1 , X2 , X3 and X7\n",
    "sns.distplot(energy_data['X1'], kde= False)"
   ]
  },
  {
   "cell_type": "code",
   "execution_count": 5,
   "metadata": {},
   "outputs": [
    {
     "data": {
      "text/plain": [
       "<matplotlib.axes._subplots.AxesSubplot at 0x2add3bd8c88>"
      ]
     },
     "execution_count": 5,
     "metadata": {},
     "output_type": "execute_result"
    },
    {
     "data": {
      "image/png": "[encoded data removed]",
      "text/plain": [
       "<Figure size 432x288 with 1 Axes>"
      ]
     },
     "metadata": {},
     "output_type": "display_data"
    }
   ],
   "source": [
    "sns.distplot(energy_data['X2'], kde= False)"
   ]
  },
  {
   "cell_type": "code",
   "execution_count": 6,
   "metadata": {},
   "outputs": [
    {
     "data": {
      "text/plain": [
       "<matplotlib.axes._subplots.AxesSubplot at 0x2add4235dd8>"
      ]
     },
     "execution_count": 6,
     "metadata": {},
     "output_type": "execute_result"
    },
    {
     "data": {
      "image/png": "[encoded data removed]",
      "text/plain": [
       "<Figure size 432x288 with 1 Axes>"
      ]
     },
     "metadata": {},
     "output_type": "display_data"
    }
   ],
   "source": [
    "sns.distplot(energy_data['X3'], kde= False)"
   ]
  },
  {
   "cell_type": "code",
   "execution_count": 7,
   "metadata": {},
   "outputs": [
    {
     "data": {
      "text/plain": [
       "<matplotlib.axes._subplots.AxesSubplot at 0x2add4309470>"
      ]
     },
     "execution_count": 7,
     "metadata": {},
     "output_type": "execute_result"
    },
    {
     "data": {
      "image/png": "[encoded data removed]",
      "text/plain": [
       "<Figure size 432x288 with 1 Axes>"
      ]
     },
     "metadata": {},
     "output_type": "display_data"
    }
   ],
   "source": [
    "sns.distplot(energy_data['X7'], kde= False)"
   ]
  },
  {
   "cell_type": "code",
   "execution_count": 8,
   "metadata": {},
   "outputs": [
    {
     "data": {
      "text/plain": [
       "<matplotlib.axes._subplots.AxesSubplot at 0x2add42e5d68>"
      ]
     },
     "execution_count": 8,
     "metadata": {},
     "output_type": "execute_result"
    },
    {
     "data": {
      "image/png": "[encoded data removed]",
      "text/plain": [
       "<Figure size 432x288 with 1 Axes>"
      ]
     },
     "metadata": {},
     "output_type": "display_data"
    }
   ],
   "source": [
    "sns.distplot(energy_data['Y1'], kde= False)"
   ]
  },
  {
   "cell_type": "code",
   "execution_count": 9,
   "metadata": {
    "collapsed": true
   },
   "outputs": [],
   "source": [
    "## Find out the max and min values for X1 , X2 , X3 and X7 from the data \n",
    "min_X1 = energy_data['X1'].min()\n",
    "max_X1 = energy_data['X1'].max()\n",
    "\n",
    "##\n",
    "min_X2 = energy_data['X2'].min()\n",
    "max_X2 = energy_data['X2'].max()\n",
    "##\n",
    "min_X3 = energy_data['X3'].min()\n",
    "max_X3 = energy_data['X3'].max()\n",
    "##\n",
    "min_X7 = energy_data['X7'].min()\n",
    "max_X7 = energy_data['X7'].max()\n"
   ]
  },
  {
   "cell_type": "code",
   "execution_count": 10,
   "metadata": {
    "collapsed": true
   },
   "outputs": [],
   "source": [
    "def objective_heat_load(x):\n",
    "    X1 = x[0]\n",
    "    X2 = x[1]\n",
    "    X3 = x[2]\n",
    "    X7 = x[3]\n",
    "    \n",
    "    y1 = np.exp(10.5544 - 4.6256*X1 - 0.0098*X2 + 0.0065*X3 +0.7898*X7 )\n",
    "    return y1 "
   ]
  },
  {
   "cell_type": "code",
   "execution_count": 11,
   "metadata": {
    "collapsed": true
   },
   "outputs": [],
   "source": [
    "def cons_1(x):\n",
    "    X7 = x[3]\n",
    "    return X7 -0 "
   ]
  },
  {
   "cell_type": "code",
   "execution_count": 12,
   "metadata": {
    "collapsed": true
   },
   "outputs": [],
   "source": [
    "bounds = ((min_X1,max_X1),(min_X2,max_X2),(min_X3,max_X3),(min_X7,max_X7))\n",
    "## Initial guess values \n",
    "#x_i = np.array([energy_data['X1'].median(),energy_data['X2'].median(),energy_data['X3'].median(),energy_data['X7'].median()])\n",
    "x_i = np.array([1,1,1,1])\n",
    "cons = {\"type\" :\"ineq\" , \"fun\" :cons_1 }"
   ]
  },
  {
   "cell_type": "code",
   "execution_count": 13,
   "metadata": {},
   "outputs": [
    {
     "name": "stdout",
     "output_type": "stream",
     "text": [
      "Optimization terminated successfully.    (Exit mode 0)\n",
      "            Current function value: 0.7338225772166445\n",
      "            Iterations: 10\n",
      "            Function evaluations: 60\n",
      "            Gradient evaluations: 10\n"
     ]
    }
   ],
   "source": [
    "soln1 = minimize(objective_heat_load, x_i, method = 'SLSQP', bounds = bounds , constraints = cons, options = {\"disp\":True})"
   ]
  },
  {
   "cell_type": "code",
   "execution_count": 14,
   "metadata": {
    "collapsed": true
   },
   "outputs": [],
   "source": [
    "parameters1 = soln1.x\n",
    "min_heating = soln1.fun"
   ]
  },
  {
   "cell_type": "code",
   "execution_count": 15,
   "metadata": {},
   "outputs": [
    {
     "name": "stdout",
     "output_type": "stream",
     "text": [
      "For Minimum heating load :\n",
      "X1 : 0.98\n",
      "X2 808.5\n",
      "X3 :245.0\n",
      "X7 :0.0\n",
      "Minimum heat load is: 0.7338225772166445\n"
     ]
    }
   ],
   "source": [
    "print(\"For Minimum heating load :\")\n",
    "print(\"X1 : {}\".format(parameters1[0]))\n",
    "print(\"X2 {}\".format(parameters1[1]))\n",
    "print(\"X3 :{}\".format(parameters1[2]))\n",
    "print(\"X7 :{}\".format(parameters1[3]))\n",
    "print(\"Minimum heat load is: {}\".format(min_heating))\n"
   ]
  },
  {
   "cell_type": "markdown",
   "metadata": {},
   "source": [
    "The optimal value for relative compactness is 0.98, surface area is 808.5 , wall area of 245 and zero glaze area. As per the research, we can change the constraints on each of the variables to get the new optimal parameter values for least heating load.  "
   ]
  },
  {
   "cell_type": "code",
   "execution_count": 16,
   "metadata": {
    "collapsed": true
   },
   "outputs": [],
   "source": [
    "def objective_cool_load(x):\n",
    "    X1 = x[0]\n",
    "    X2 = x[1]\n",
    "    X3 = x[2]\n",
    "    X7 = x[3]\n",
    "    \n",
    "    y2 = np.exp(11.7856 -5.1108*X1 - 0.0097*X2 + 0.0051*X3 + 0.641*X7)\n",
    "    \n",
    "    return y2 "
   ]
  },
  {
   "cell_type": "code",
   "execution_count": 17,
   "metadata": {},
   "outputs": [
    {
     "name": "stdout",
     "output_type": "stream",
     "text": [
      "Optimization terminated successfully.    (Exit mode 0)\n",
      "            Current function value: 1.2020951587586859\n",
      "            Iterations: 10\n",
      "            Function evaluations: 60\n",
      "            Gradient evaluations: 10\n"
     ]
    }
   ],
   "source": [
    "soln2 = minimize(objective_cool_load, x_i, method = 'SLSQP', bounds = bounds , constraints = cons, options = {\"disp\":True})"
   ]
  },
  {
   "cell_type": "code",
   "execution_count": 18,
   "metadata": {
    "collapsed": true
   },
   "outputs": [],
   "source": [
    "parameters2 = soln2.x\n",
    "min_cooling = soln2.fun"
   ]
  },
  {
   "cell_type": "code",
   "execution_count": 19,
   "metadata": {},
   "outputs": [
    {
     "name": "stdout",
     "output_type": "stream",
     "text": [
      "For Minimum cooling load :\n",
      "X1 : 0.9799999999999981\n",
      "X2 808.5\n",
      "X3 :245.0\n",
      "X7 :0.0\n",
      "Minimum cooling load is: 1.2020951587586859\n"
     ]
    }
   ],
   "source": [
    "print(\"For Minimum cooling load :\")\n",
    "print(\"X1 : {}\".format(parameters2[0]))\n",
    "print(\"X2 {}\".format(parameters2[1]))\n",
    "print(\"X3 :{}\".format(parameters2[2]))\n",
    "print(\"X7 :{}\".format(parameters2[3]))\n",
    "print(\"Minimum cooling load is: {}\".format(min_cooling))\n"
   ]
  },
  {
   "cell_type": "markdown",
   "metadata": {
    "collapsed": true
   },
   "source": [
    "Its seen that, with the same set of values for X1 , X2 , X3 and X7 , we get the least cooling load."
   ]
  },
  {
   "cell_type": "code",
   "execution_count": 24,
   "metadata": {},
   "outputs": [
    {
     "data": {
      "text/html": [
       "<div>\n",
       "<style>\n",
       "    .dataframe thead tr:only-child th {\n",
       "        text-align: right;\n",
       "    }\n",
       "\n",
       "    .dataframe thead th {\n",
       "        text-align: left;\n",
       "    }\n",
       "\n",
       "    .dataframe tbody tr th {\n",
       "        vertical-align: top;\n",
       "    }\n",
       "</style>\n",
       "<table border=\"1\" class=\"dataframe\">\n",
       "  <thead>\n",
       "    <tr style=\"text-align: right;\">\n",
       "      <th></th>\n",
       "      <th>X1</th>\n",
       "      <th>X2</th>\n",
       "      <th>X3</th>\n",
       "      <th>X4</th>\n",
       "      <th>X5</th>\n",
       "      <th>X6</th>\n",
       "      <th>X7</th>\n",
       "      <th>X8</th>\n",
       "      <th>Y1</th>\n",
       "      <th>Y2</th>\n",
       "    </tr>\n",
       "  </thead>\n",
       "  <tbody>\n",
       "    <tr>\n",
       "      <th>26</th>\n",
       "      <td>0.74</td>\n",
       "      <td>686.0</td>\n",
       "      <td>245.0</td>\n",
       "      <td>220.5</td>\n",
       "      <td>3.5</td>\n",
       "      <td>4</td>\n",
       "      <td>0.0</td>\n",
       "      <td>0</td>\n",
       "      <td>6.01</td>\n",
       "      <td>10.94</td>\n",
       "    </tr>\n",
       "  </tbody>\n",
       "</table>\n",
       "</div>"
      ],
      "text/plain": [
       "      X1     X2     X3     X4   X5  X6   X7  X8    Y1     Y2\n",
       "26  0.74  686.0  245.0  220.5  3.5   4  0.0   0  6.01  10.94"
      ]
     },
     "execution_count": 24,
     "metadata": {},
     "output_type": "execute_result"
    }
   ],
   "source": [
    "## From the data , what parameters give the least Y1 and Y2.\n",
    "energy_data[energy_data['Y1'] ==energy_data['Y1'].min()]"
   ]
  },
  {
   "cell_type": "code",
   "execution_count": 25,
   "metadata": {},
   "outputs": [
    {
     "data": {
      "text/html": [
       "<div>\n",
       "<style>\n",
       "    .dataframe thead tr:only-child th {\n",
       "        text-align: right;\n",
       "    }\n",
       "\n",
       "    .dataframe thead th {\n",
       "        text-align: left;\n",
       "    }\n",
       "\n",
       "    .dataframe tbody tr th {\n",
       "        vertical-align: top;\n",
       "    }\n",
       "</style>\n",
       "<table border=\"1\" class=\"dataframe\">\n",
       "  <thead>\n",
       "    <tr style=\"text-align: right;\">\n",
       "      <th></th>\n",
       "      <th>X1</th>\n",
       "      <th>X2</th>\n",
       "      <th>X3</th>\n",
       "      <th>X4</th>\n",
       "      <th>X5</th>\n",
       "      <th>X6</th>\n",
       "      <th>X7</th>\n",
       "      <th>X8</th>\n",
       "      <th>Y1</th>\n",
       "      <th>Y2</th>\n",
       "    </tr>\n",
       "  </thead>\n",
       "  <tbody>\n",
       "    <tr>\n",
       "      <th>24</th>\n",
       "      <td>0.74</td>\n",
       "      <td>686.0</td>\n",
       "      <td>245.0</td>\n",
       "      <td>220.5</td>\n",
       "      <td>3.5</td>\n",
       "      <td>2</td>\n",
       "      <td>0.0</td>\n",
       "      <td>0</td>\n",
       "      <td>6.07</td>\n",
       "      <td>10.9</td>\n",
       "    </tr>\n",
       "  </tbody>\n",
       "</table>\n",
       "</div>"
      ],
      "text/plain": [
       "      X1     X2     X3     X4   X5  X6   X7  X8    Y1    Y2\n",
       "24  0.74  686.0  245.0  220.5  3.5   2  0.0   0  6.07  10.9"
      ]
     },
     "execution_count": 25,
     "metadata": {},
     "output_type": "execute_result"
    }
   ],
   "source": [
    "energy_data[energy_data['Y2'] ==energy_data['Y2'].min()]"
   ]
  },
  {
   "cell_type": "markdown",
   "metadata": {
    "collapsed": true
   },
   "source": []
  }
 ],
 "metadata": {
  "kernelspec": {
   "display_name": "Python 3",
   "language": "python",
   "name": "python3"
  },
  "language_info": {
   "codemirror_mode": {
    "name": "ipython",
    "version": 3
   },
   "file_extension": ".py",
   "mimetype": "text/x-python",
   "name": "python",
   "nbconvert_exporter": "python",
   "pygments_lexer": "ipython3",
   "version": "3.6.3"
  }
 },
 "nbformat": 4,
 "nbformat_minor": 2
}
